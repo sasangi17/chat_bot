{
  "nbformat": 4,
  "nbformat_minor": 0,
  "metadata": {
    "colab": {
      "provenance": [],
      "authorship_tag": "ABX9TyNPZBKQcNKpnHUQTlTb66eg",
      "include_colab_link": true
    },
    "kernelspec": {
      "name": "python3",
      "display_name": "Python 3"
    },
    "language_info": {
      "name": "python"
    }
  },
  "cells": [
    {
      "cell_type": "markdown",
      "metadata": {
        "id": "view-in-github",
        "colab_type": "text"
      },
      "source": [
        "<a href=\"https://colab.research.google.com/github/sasangi17/chat_bot/blob/main/Chatbot_Groq_API.ipynb\" target=\"_parent\"><img src=\"https://colab.research.google.com/assets/colab-badge.svg\" alt=\"Open In Colab\"/></a>"
      ]
    },
    {
      "cell_type": "code",
      "execution_count": null,
      "metadata": {
        "id": "67iKthxZIg0u"
      },
      "outputs": [],
      "source": [
        "!pip install \"transformers==4.44.2\" llama-index-core llama-index-llms-groq gradio -q\n",
        "\n"
      ]
    },
    {
      "cell_type": "code",
      "source": [
        "import gradio as gr\n",
        "from llama_index.llms.groq import Groq\n",
        "\n",
        "API_KEY = \"Add Your API Key Here\"\n",
        "\n",
        "def chat_simple(prompt):\n",
        "    llm = Groq(model=\"openai/gpt-oss-20b\", api_key=API_KEY, temperature=0.7)\n",
        "    resp = llm.complete(prompt)\n",
        "    return getattr(resp, \"text\", str(resp))\n",
        "\n",
        "demo = gr.Interface(\n",
        "    fn=chat_simple,\n",
        "    inputs=gr.Textbox(lines=6, label=\"Prompt\", placeholder=\"Ask me anything...\"),\n",
        "    outputs=gr.Textbox(lines=12, label=\"Response\"),\n",
        "     title=\"🚀 Groq · Simple Chat\"\n",
        ")\n",
        "\n",
        "demo.launch(share=True)\n"
      ],
      "metadata": {
        "id": "fuwrHWT_JNkX"
      },
      "execution_count": null,
      "outputs": []
    }
  ]
}