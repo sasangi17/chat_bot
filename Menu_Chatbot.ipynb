{
  "nbformat": 4,
  "nbformat_minor": 0,
  "metadata": {
    "colab": {
      "provenance": [],
      "authorship_tag": "ABX9TyN9QqGJABK88IbUwZABsXwV",
      "include_colab_link": true
    },
    "kernelspec": {
      "name": "python3",
      "display_name": "Python 3"
    },
    "language_info": {
      "name": "python"
    }
  },
  "cells": [
    {
      "cell_type": "markdown",
      "metadata": {
        "id": "view-in-github",
        "colab_type": "text"
      },
      "source": [
        "<a href=\"https://colab.research.google.com/github/sasangi17/chat_bot/blob/main/Menu_Chatbot.ipynb\" target=\"_parent\"><img src=\"https://colab.research.google.com/assets/colab-badge.svg\" alt=\"Open In Colab\"/></a>"
      ]
    },
    {
      "cell_type": "code",
      "execution_count": null,
      "metadata": {
        "id": "f6mWpvmuhB5g"
      },
      "outputs": [],
      "source": [
        "import json\n",
        "import ipywidgets\n",
        "from IPython.display import display,clear_output"
      ]
    },
    {
      "cell_type": "code",
      "source": [
        "!pip install ipywidgets"
      ],
      "metadata": {
        "id": "D1gsNyT1kOeT"
      },
      "execution_count": null,
      "outputs": []
    },
    {
      "cell_type": "code",
      "source": [
        "import json\n",
        "\n",
        "\n",
        "menu_data = [\n",
        "    {\n",
        "        \"name\": \"Margherita Pizza\",\n",
        "        \"ingredients\": [\"tomato\", \"mozzarella\", \"basil\"],\n",
        "        \"price\": 1800,\n",
        "        \"tags\": [\"vegetarian\"],\n",
        "        \"category\": \"pizza\",\n",
        "        \"recommended\": True\n",
        "    },\n",
        "    {\n",
        "        \"name\": \"Caesar Salad\",\n",
        "        \"ingredients\": [\"lettuce\", \"croutons\", \"parmesan\", \"caesar dressing\"],\n",
        "        \"price\": 1200,\n",
        "        \"tags\": [\"gluten-free\"],\n",
        "        \"category\": \"salad\",\n",
        "        \"recommended\": False\n",
        "    },\n",
        "    {\n",
        "        \"name\": \"Vegan Burger\",\n",
        "        \"ingredients\": [\"vegan patty\", \"lettuce\", \"tomato\", \"vegan mayo\"],\n",
        "        \"price\": 2000,\n",
        "        \"tags\": [\"vegan\"],\n",
        "        \"category\": \"burger\",\n",
        "        \"recommended\": True\n",
        "    },\n",
        "\n",
        "    {\n",
        "    \"name\": \"Chicken Burger\",\n",
        "    \"ingredients\": [\"chicken patty\", \"lettuce\", \"tomato\", \"mayo\"],\n",
        "    \"price\": 2000,\n",
        "    \"tags\": [\"non-vegan\"],\n",
        "    \"category\": \"burger\",\n",
        "    \"recommended\": True\n",
        "},\n",
        "     {\n",
        "    \"name\": \"BBQ Chicken\",\n",
        "    \"ingredients\": [\"Grilled chicken\", \"BBQ sauce\", \"tomato\", \"cheese\"],\n",
        "    \"price\": 2500,\n",
        "    \"tags\": [\"non-vegan\"],\n",
        "    \"category\": \"pizza\",\n",
        "    \"recommended\": True\n",
        "}\n",
        "\n",
        "]\n",
        "\n",
        "\n",
        "with open(\"menu.json\", \"w\") as f:\n",
        "    json.dump(menu_data, f)\n",
        "\n",
        "print(\"menu.json created with prices in Rs!\")\n"
      ],
      "metadata": {
        "id": "_qmP6943kUqX"
      },
      "execution_count": null,
      "outputs": []
    },
    {
      "cell_type": "code",
      "source": [
        "with open(\"menu.json\") as f:\n",
        "    menu = json.load(f)\n",
        "\n",
        "def chatbot(question):\n",
        "    q = question.lower()\n",
        "\n",
        "\n",
        "    for item in menu:\n",
        "        if item[\"name\"].lower() in q and \"price\" in q:\n",
        "            return f\"{item['name']} costs Rs {item['price']:.2f}.\"\n",
        "\n",
        "\n",
        "    for item in menu:\n",
        "        if item[\"name\"].lower() in q and (\"ingredient\" in q or \"what's in\" in q or \"contain\" in q):\n",
        "            return f\"{item['name']} has {', '.join(item['ingredients'])}.\"\n",
        "\n",
        "\n",
        "    for item in menu:\n",
        "        if \"vegan\" in q and \"vegan\" in item[\"tags\"]:\n",
        "            return f\"{item['name']} is vegan.\"\n",
        "        if \"non-vegan\" in q and \"non-vegan\" in item[\"tags\"]:\n",
        "            return f\"{item['name']} is non-vegan.\"\n",
        "        if \"gluten\" in q and \"gluten-free\" in item[\"tags\"]:\n",
        "            return f\"{item['name']} is gluten-free.\"\n",
        "\n",
        "\n",
        "    if \"recommend\" in q or \"popular\" in q:\n",
        "        recs = [item[\"name\"] for item in menu if item[\"recommended\"]]\n",
        "        return f\"Our recommendations: {', '.join(recs)}.\"\n",
        "\n",
        "    return \"Sorry, I’m not sure. Try asking about price, ingredients, or recommendations.\"\n"
      ],
      "metadata": {
        "id": "RA26ZSHmkZ9A"
      },
      "execution_count": null,
      "outputs": []
    },
    {
      "cell_type": "code",
      "source": [
        "from ipywidgets import widgets\n",
        "from IPython.display import display, clear_output\n",
        "\n",
        "\n",
        "input_box = widgets.Text(\n",
        "    placeholder='Ask me about the menu...',\n",
        "    description='You:',\n",
        "    layout=widgets.Layout(width='70%')\n",
        ")\n",
        "\n",
        "output_box = widgets.Output()\n",
        "\n",
        "def handle_submit(change):\n",
        "    with output_box:\n",
        "        clear_output(wait=True)\n",
        "        question = change['new']\n",
        "        if question.lower() == \"exit\":\n",
        "            print(\"Chatbot: Goodbye!\")\n",
        "            input_box.disabled = True\n",
        "        else:\n",
        "            response = chatbot(question)\n",
        "            print(\"Chatbot:\", response)\n",
        "\n",
        "input_box.observe(handle_submit, names='value')\n",
        "\n",
        "display(input_box, output_box)\n"
      ],
      "metadata": {
        "id": "BPDhi9LOkjCM"
      },
      "execution_count": null,
      "outputs": []
    }
  ]
}